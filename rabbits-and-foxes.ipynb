{
 "cells": [
  {
   "cell_type": "markdown",
   "metadata": {},
   "source": [
    "# Objectives:\n",
    "First, use `odeint` from the `scipy.integrate` package to plot the graph and find the location of the second peak in fox population (eg. 425 days, 2800 foxes).\n",
    "\n",
    "Then, implement a Kinetic Monte Carlo algorithm to simulate the same situation. See https://en.wikipedia.org/wiki/Kinetic_Monte_Carlo for details\n",
    "\n",
    "Determine\n",
    "\n",
    "1. The expected location of the second peak in foxes (eg. 425 days, 2800 foxes), on occasions that there is one (eg. a peak that's  >200 days and >100 foxes)\n",
    "\n",
    "2. The interquartile range of the second peak in foxes (eg. 411-443 days, 2700-3120 foxes).\n",
    "\n",
    "3. The probability that the foxes die out before 600 days are complete\n",
    "\n",
    "\n",
    "Make sure you've done enough simulations to be suitably confident in your answers (given the precision you think appropriate).\n",
    "\n",
    "Finally, list some things that you learned from this assignment."
   ]
  },
  {
   "cell_type": "markdown",
   "metadata": {},
   "source": [
    "# Rabbits and foxes\n",
    "\n",
    "There are initially 400 rabbits and 200 foxes on a farm (but it could be two cell types in a 96 well plate or something, if you prefer bio-engineering analogies). Plot the concentration of foxes and rabbits as a function of time for a period of up to 600 days. The predator-prey relationships are given by the following set of coupled ordinary differential equations:\n",
    "\n",
    "\\begin{align}\n",
    "\\frac{dR}{dt} &= k_1 R - k_2 R F \\tag{1}\\\\\n",
    "\\frac{dF}{dt} &= k_3 R F - k_4 F \\tag{2}\\\\\n",
    "\\end{align}\n",
    "\n",
    "* Constant for growth of rabbits $k_1 = 0.015$ day<sup>-1</sup>\n",
    "* Constant for death of rabbits being eaten by foxes $k_2 = 0.00004$ day<sup>-1</sup> foxes<sup>-1</sup>\n",
    "* Constant for growth of foxes after eating rabbits $k_3 = 0.0004$ day<sup>-1</sup> rabbits<sup>-1</sup>\n",
    "* Constant for death of foxes $k_4 = 0.04$ day<sup>-1</sup>\n",
    "\n",
    "Also plot the number of foxes versus the number of rabbits.\n",
    "\n",
    "Then try also with \n",
    "* $k_3 = 0.00004$ day<sup>-1</sup> rabbits<sup>-1</sup>\n",
    "* $t_{final} = 800$ days\n",
    "\n",
    "*This problem is based on one from Chapter 1 of H. Scott Fogler's textbook \"Essentials of Chemical Reaction Engineering\".*\n"
   ]
  },
  {
   "cell_type": "markdown",
   "metadata": {
    "collapsed": true
   },
   "source": [
    "# Solving ODEs\n",
    "\n",
    "*Much of the following content reused under Creative Commons Attribution license CC-BY 4.0, code under MIT license (c)2014 L.A. Barba, G.F. Forsyth. Partly based on David Ketcheson's pendulum lesson, also under CC-BY. https://github.com/numerical-mooc/numerical-mooc*\n",
    "\n",
    "Let's step back for a moment. Suppose we have a first-order ODE $u'=f(u)$. You know that if we were to integrate this, there would be an arbitrary constant of integration. To find its value, we do need to know one point on the curve $(t, u)$. When the derivative in the ODE is with respect to time, we call that point the _initial value_ and write something like this:\n",
    "\n",
    "$$u(t=0)=u_0$$\n",
    "\n",
    "In the case of a second-order ODE, we already saw how to write it as a system of first-order ODEs, and we would need an initial value for each equation: two conditions are needed to determine our constants of integration. The same applies for higher-order ODEs: if it is of order $n$, we can write it as $n$ first-order equations, and we need $n$ known values. If we have that data, we call the problem an _initial value problem_.\n",
    "\n",
    "Remember the definition of a derivative? The derivative represents the slope of the tangent at a point of the curve $u=u(t)$, and the definition of the derivative $u'$ for a function is:\n",
    "\n",
    "$$u'(t) = \\lim_{\\Delta t\\rightarrow 0} \\frac{u(t+\\Delta t)-u(t)}{\\Delta t}$$\n",
    "\n",
    "If the step $\\Delta t$ is already very small, we can _approximate_ the derivative by dropping the limit. We can write:\n",
    "\n",
    "$$\\begin{equation}\n",
    "u(t+\\Delta t) \\approx u(t) + u'(t) \\Delta t\n",
    "\\end{equation}$$\n",
    "\n",
    "With this equation, and because we know $u'(t)=f(u)$, if we have an initial value, we can step by $\\Delta t$ and find the value of $u(t+\\Delta t)$, then we can take this value, and find $u(t+2\\Delta t)$, and so on: we say that we _step in time_, numerically finding the solution $u(t)$ for a range of values: $t_1, t_2, t_3 \\cdots$, each separated by $\\Delta t$. The numerical solution of the ODE is simply the table of values $t_i, u_i$ that results from this process.\n"
   ]
  },
  {
   "cell_type": "markdown",
   "metadata": {},
   "source": [
    "# Euler's method\n",
    "*Also known as \"Simple Euler\" or sometimes \"Simple Error\".*\n",
    "\n",
    "The approximate solution at time $t_n$ is $u_n$, and the numerical solution of the differential equation consists of computing a sequence of approximate solutions by the following formula, based on Equation (10):\n",
    "\n",
    "$$u_{n+1} = u_n + \\Delta t \\,f(u_n).$$\n",
    "\n",
    "This formula is called **Euler's method**.\n",
    "\n",
    "For the equations of the rabbits and foxes, Euler's method gives the following algorithm that we need to implement in code:\n",
    "\n",
    "\\begin{align}\n",
    "R_{n+1} & = R_n + \\Delta t \\left(k_1 R_n - k_2 R_n F_n \\right) \\\\\n",
    "F_{n+1} & = F_n + \\Delta t \\left( k_3 R_n F_n - k_4 F_n \\right).\n",
    "\\end{align}\n"
   ]
  },
  {
   "cell_type": "markdown",
   "metadata": {},
   "source": [
    "Kinetic Monte Carlo Notes from Class\n",
    "\n",
    "Events:\n",
    "\n",
    "Rabbit Born k1xR\n",
    "\n",
    "Rabbit Dies k2xRxF\n",
    "\n",
    "Fox Born \n",
    "\n",
    "Fox Dies\n",
    "\n",
    "sum of rates is the expected number of events per time\n",
    "\n",
    "1/sum is the average wait time\n",
    "\n",
    "exponential time distribution can be used, and events chosen based on probability"
   ]
  },
  {
   "cell_type": "markdown",
   "metadata": {
    "collapsed": false
   },
   "source": [
    "R = 400  # rabbits\n",
    "F = 200  # foxes\n",
    "\n",
    "\n",
    "def pops(pops0, t):\n",
    "    k1 = .015  # 1/days\n",
    "    k2 = .00004  # 1/(days*foxes)\n",
    "    k3 = .00004  # 1/(days*rabbits)\n",
    "    k4 = .04  # 1/days\n",
    "    dxdt = k1*pops0[0]-k2*pops0[0]*pops0[1]\n",
    "    dydt = k3*pops0[0]*pops0[1]-k4*pops0[1]\n",
    "    ddt = [dxdt, dydt]\n",
    "    return ddt\n",
    "\n",
    "t = np.linspace(0, 800, 10000)\n",
    "pops0 = [R, F]\n",
    "\n",
    "populations = odeint(pops, pops0, t)\n",
    "\n",
    "plt.plot(1)\n",
    "plt.title('k3 = 0.00004')\n",
    "plt.plot(t, populations[:, 0], 'b-')\n",
    "plt.plot(t, populations[:, 1], 'r--')\n",
    "plt.xlabel('Time (days)')\n",
    "plt.ylabel('Population')\n",
    "plt.legend(['Rabbits', 'Foxes'], loc=0)\n",
    "plt.show()"
   ]
  },
  {
   "cell_type": "code",
   "execution_count": null,
   "metadata": {
    "collapsed": true
   },
   "outputs": [],
   "source": [
    "%matplotlib inline\n",
    "import numpy as np\n",
    "from matplotlib import pyplot as plt\n",
    "from scipy.integrate import odeint\n",
    "from matplotlib import cm as CM\n",
    "from matplotlib import mlab as ML"
   ]
  },
  {
   "cell_type": "code",
   "execution_count": null,
   "metadata": {
    "collapsed": false
   },
   "outputs": [],
   "source": [
    "def second_max(Time, Var):\n",
    "# Returns the second maximum of the given 1-D Array (as an int) and the corresponding time (as a float)\n",
    "# This function only works if the second peak is in the second half of the data set by itself\n",
    "\n",
    "    x = Var[:int(np.floor(len(Var)/2))]\n",
    "    y = Var[int(np.ceil(len(Var)/2)):] # Splits the given array in two\n",
    "    index = np.argmax(y)+(len(x)-1) # gives the index of the maximum value with respect to original array\n",
    "    \n",
    "    return ([(round(Time[index], 2)), int(round(Var[index]))]) # round function added because int is floor"
   ]
  },
  {
   "cell_type": "code",
   "execution_count": null,
   "metadata": {
    "collapsed": false
   },
   "outputs": [],
   "source": [
    "R = 400  # rabbits\n",
    "F = 200  # foxes\n",
    "TimeStep = .01\n",
    "\n",
    "def pops(pops0, t):\n",
    "    k1 = .015  # 1/days\n",
    "    k2 = .00004  # 1/(days*foxes)\n",
    "    k3 = .0004  # 1/(days*rabbits)\n",
    "    k4 = .04  # 1/days\n",
    "    dxdt = k1*pops0[0]-k2*pops0[0]*pops0[1]\n",
    "    dydt = k3*pops0[0]*pops0[1]-k4*pops0[1]\n",
    "    ddt = [dxdt, dydt]\n",
    "    return ddt\n",
    "\n",
    "t = np.arange(0, 600, TimeStep)\n",
    "pops0 = [R, F]\n",
    "\n",
    "populations = odeint(pops, pops0, t)\n",
    "\n",
    "plt.plot(1)\n",
    "plt.title('k3 = 0.0004')\n",
    "plt.plot(t, populations[:,0], 'b-', label='Rabbits')\n",
    "plt.plot(t, populations[:,1], 'r--', label='Foxes')\n",
    "plt.xlabel('Time (days)')\n",
    "plt.ylabel('Population')\n",
    "plt.legend(loc=0)\n",
    "plt.show()\n",
    "\n",
    "ans = second_max(t, populations[:,1])\n",
    "\n",
    "print(\"The second peak of foxes occurs at %.3f days and there are %d foxes.\" % (ans[0], ans[1]))"
   ]
  },
  {
   "cell_type": "code",
   "execution_count": null,
   "metadata": {
    "collapsed": false
   },
   "outputs": [],
   "source": [
    "# Set initial conditions\n",
    "Ri = 400 # Initial number of rabbits\n",
    "Fi = 200 # Initial number of foxes\n",
    "\n",
    "CountRDeath = 0 # Number of times KMC resulted in all rabbits dying\n",
    "CountFDeath = 0 # Number of times KMC resulted in all foxes dying\n",
    "\n",
    "FPeak2 = [] # List of lists for second peak locations and times\n",
    "trials = 10000 # number of trials\n",
    "\n",
    "#define rates\n",
    "k1 = .015  # 1/days\n",
    "k2 = .00004  # 1/(days*foxes)\n",
    "k3 = .0004  # 1/(days*rabbits)\n",
    "k4 = .04  # 1/days\n",
    "\n",
    "# for loop runs multiple simulations\n",
    "for i in range(trials):\n",
    "# reset lists\n",
    "    R = [Ri]\n",
    "    F = [Fi]\n",
    "    t = [0]\n",
    "    \n",
    "    RDead = False # Keeps track of status of rabbit population\n",
    "    FDead = False # Keeps track of status of fox population\n",
    "    \n",
    "\n",
    "    # while loop runs individual KMC simulations\n",
    "    while t[-1] <= 600:\n",
    "\n",
    "        # Sets all rates and sums of rates to avoid inefficient calculations in every if statement\n",
    "        Q = k1*R[-1] + k2*R[-1]*F[-1] + k3*R[-1]*F[-1] + k4*F[-1]\n",
    "        r1 = k1*R[-1]\n",
    "        r2 = k1*R[-1] + k2*R[-1]*F[-1]\n",
    "        r3 = k1*R[-1] + k2*R[-1]*F[-1] + k3*R[-1]*F[-1]\n",
    "        \n",
    "        # Determines which action will be taken\n",
    "        val = np.random.rand() * Q\n",
    "        \n",
    "        # this section checks if the populations are non-zero\n",
    "        if F[-1] < 1:\n",
    "            # print(\"All foxes disappeared after %.3f days.\" % (t))\n",
    "            CountFDeath = CountFDeath + 1\n",
    "            FDead = True\n",
    "            break\n",
    "            \n",
    "        elif R[-1] < 1:\n",
    "            # print(\"All rabbits disappeared after %.3f days.\" % (t))\n",
    "            CountRDeath = CountRDeath + 1\n",
    "            FDead = True\n",
    "            break\n",
    "\n",
    "        # This section determines the correct action to take and appends the lists accordingly\n",
    "        if val < r1:\n",
    "            # Rabbit is born\n",
    "            R.append(R[-1] + 1)\n",
    "            F.append(F[-1])\n",
    "            t.append(t[-1] + 1/Q * np.log(1/np.random.rand()))\n",
    "\n",
    "        elif val < r2:\n",
    "            # Rabbit is killed by a fox\n",
    "            R.append(R[-1] - 1)\n",
    "            F.append(F[-1])\n",
    "            t.append(t[-1] + 1/Q * np.log(1/np.random.rand()))\n",
    "\n",
    "        elif val < r3:\n",
    "            # Fox is born\n",
    "            F.append(F[-1] + 1)\n",
    "            R.append(R[-1])\n",
    "            t.append(t[-1] + 1/Q * np.log(1/np.random.rand()))\n",
    "\n",
    "        elif val < Q:\n",
    "            # Fox dies\n",
    "            F.append(F[-1] - 1)\n",
    "            R.append(R[-1])\n",
    "            t.append(t[-1] + 1/Q * np.log(1/np.random.rand()))\n",
    "\n",
    "        else:\n",
    "            print(\"Error in while loop\")\n",
    "            break\n",
    "            \n",
    "    # Adds that KMC run to the cumulative plot\n",
    "    plt.plot(t,R, 'b--')\n",
    "    plt.plot(t,F, 'r')\n",
    "    \n",
    "    # If neither of the populations died in a given KMC run, finds the second peak and saves it\n",
    "    if FDead == False and RDead == False:\n",
    "        FPeak2.append(second_max(t, np.array(F)))\n",
    "\n",
    "plt.xlabel('Time (days)')\n",
    "plt.ylabel('Population')\n",
    "plt.show()        \n",
    "print(\"This plot shows the individual curves of the KMC simulations.\\n\")"
   ]
  },
  {
   "cell_type": "code",
   "execution_count": null,
   "metadata": {
    "collapsed": false,
    "scrolled": true
   },
   "outputs": [],
   "source": [
    "aFPeak2 = np.array(FPeak2)\n",
    "tq75, tq25 = np.percentile(a[:,0], [75 ,25])\n",
    "fq75, fq25 = np.percentile(a[:,1], [75 ,25])\n",
    "\n",
    "print(\"The second peak of foxes occurs, on average, at %.3f days and there are %d foxes.\" % (np.mean(aFPeak2[:, 0]), np.mean(aFPeak2[:, 1])))\n",
    "print(\"The interquartile range of the time was from %.3f to %.3f days.\" % (tq25, tq75))\n",
    "print(\"The interquartile range of the number of foxes was from %.3f to %.3f. \\n\" % (fq25, fq75))\n",
    "\n",
    "print(\"The probability that all of the rabbits would die was %.1f%%. \" % (CountRDeath/trials*100))\n",
    "print(\"The probability that all of the foxes would die was %.1f%%. \" % (CountFDeath/trials*100))\n",
    "print(\"Therefore, the total number of second peaks found was %d. \" % (trials - CountRDeath - CountFDeath))"
   ]
  },
  {
   "cell_type": "markdown",
   "metadata": {},
   "source": [
    "This assignment was actually pretty helpful. It gave me an idea of how modeling works beyond simply using differential equations. Actually implementing the KMC simulation for this system without looking up code forced me to make a lot of mistakes that ended up helping me understand it better. I am sure there are better ways to do it, but this works decently well for the problem. \n",
    "\n",
    "Anything after this markdown is not required, I just wanted to try it out."
   ]
  },
  {
   "cell_type": "code",
   "execution_count": null,
   "metadata": {
    "collapsed": false,
    "scrolled": true
   },
   "outputs": [],
   "source": [
    "plt.hexbin(aFPeak2[:, 0], aFPeak2[:, 1], gridsize=20, cmap=CM.gist_heat_r, bins=None)\n",
    "plt.axis([0, 600, 0, 5000])\n",
    "\n",
    "cb = plt.colorbar()\n",
    "cb.set_label('Occurances')\n",
    "plt.xlabel('Time (days)')\n",
    "plt.ylabel('Foxes')\n",
    "plt.show()\n",
    "print(\"This plot shows the location of the maxima.\")"
   ]
  },
  {
   "cell_type": "code",
   "execution_count": null,
   "metadata": {
    "collapsed": false
   },
   "outputs": [],
   "source": [
    "Average = [aFPeak2[0, 1]]\n",
    "Quartile75 = [np.percentile(aFPeak2[0,1], 75)]\n",
    "Quartile25 = [np.percentile(aFPeak2[0,1], 75)]\n",
    "\n",
    "for i in range(1, len(aFPeak2)):\n",
    "    Average.append(np.mean(aFPeak2[:i, 1]))\n",
    "    Quartile75.append(np.percentile(aFPeak2[:i,1], 75))\n",
    "    Quartile25.append(np.percentile(aFPeak2[:i,1], 25))\n",
    "    \n",
    "plt.plot(Average, 'b', label='Average')\n",
    "plt.plot(Quartile75, 'r--', label='Quartile')\n",
    "plt.plot(Quartile25, 'r--')\n",
    "plt.xlabel('Total Peaks')\n",
    "plt.ylabel('Foxes')\n",
    "plt.legend(loc=0)\n",
    "plt.show()\n",
    "print(\"This plot tracks the average amplitude of the second peak of foxes.\")"
   ]
  },
  {
   "cell_type": "code",
   "execution_count": null,
   "metadata": {
    "collapsed": true
   },
   "outputs": [],
   "source": []
  }
 ],
 "metadata": {
  "anaconda-cloud": {},
  "kernelspec": {
   "display_name": "Python [Root]",
   "language": "python",
   "name": "Python [Root]"
  },
  "language_info": {
   "codemirror_mode": {
    "name": "ipython",
    "version": 3
   },
   "file_extension": ".py",
   "mimetype": "text/x-python",
   "name": "python",
   "nbconvert_exporter": "python",
   "pygments_lexer": "ipython3",
   "version": "3.5.2"
  }
 },
 "nbformat": 4,
 "nbformat_minor": 1
}
