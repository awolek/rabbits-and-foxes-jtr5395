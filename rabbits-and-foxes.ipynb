{
 "cells": [
  {
   "cell_type": "markdown",
   "metadata": {},
   "source": [
    "# Objectives:\n",
    "First, use `odeint` from the `scipy.integrate` package to plot the graph and find the location of the second peak in fox population (eg. 425 days, 2800 foxes).\n",
    "\n",
    "Then, implement a Kinetic Monte Carlo algorithm to simulate the same situation. See https://en.wikipedia.org/wiki/Kinetic_Monte_Carlo for details\n",
    "\n",
    "Determine\n",
    "\n",
    "1. The expected location of the second peak in foxes (eg. 425 days, 2800 foxes), on occasions that there is one (eg. a peak that's  >200 days and >100 foxes)\n",
    "\n",
    "2. The interquartile range of the second peak in foxes (eg. 411-443 days, 2700-3120 foxes).\n",
    "\n",
    "3. The probability that the foxes die out before 600 days are complete\n",
    "\n",
    "\n",
    "Make sure you've done enough simulations to be suitably confident in your answers (given the precision you think appropriate).\n",
    "\n",
    "Finally, list some things that you learned from this assignment."
   ]
  },
  {
   "cell_type": "markdown",
   "metadata": {},
   "source": [
    "# Rabbits and foxes\n",
    "\n",
    "There are initially 400 rabbits and 200 foxes on a farm (but it could be two cell types in a 96 well plate or something, if you prefer bio-engineering analogies). Plot the concentration of foxes and rabbits as a function of time for a period of up to 600 days. The predator-prey relationships are given by the following set of coupled ordinary differential equations:\n",
    "\n",
    "\\begin{align}\n",
    "\\frac{dR}{dt} &= k_1 R - k_2 R F \\tag{1}\\\\\n",
    "\\frac{dF}{dt} &= k_3 R F - k_4 F \\tag{2}\\\\\n",
    "\\end{align}\n",
    "\n",
    "* Constant for growth of rabbits $k_1 = 0.015$ day<sup>-1</sup>\n",
    "* Constant for death of rabbits being eaten by foxes $k_2 = 0.00004$ day<sup>-1</sup> foxes<sup>-1</sup>\n",
    "* Constant for growth of foxes after eating rabbits $k_3 = 0.0004$ day<sup>-1</sup> rabbits<sup>-1</sup>\n",
    "* Constant for death of foxes $k_4 = 0.04$ day<sup>-1</sup>\n",
    "\n",
    "Also plot the number of foxes versus the number of rabbits.\n",
    "\n",
    "Then try also with \n",
    "* $k_3 = 0.00004$ day<sup>-1</sup> rabbits<sup>-1</sup>\n",
    "* $t_{final} = 800$ days\n",
    "\n",
    "*This problem is based on one from Chapter 1 of H. Scott Fogler's textbook \"Essentials of Chemical Reaction Engineering\".*\n"
   ]
  },
  {
   "cell_type": "markdown",
   "metadata": {
    "collapsed": true
   },
   "source": [
    "# Solving ODEs\n",
    "\n",
    "*Much of the following content reused under Creative Commons Attribution license CC-BY 4.0, code under MIT license (c)2014 L.A. Barba, G.F. Forsyth. Partly based on David Ketcheson's pendulum lesson, also under CC-BY. https://github.com/numerical-mooc/numerical-mooc*\n",
    "\n",
    "Let's step back for a moment. Suppose we have a first-order ODE $u'=f(u)$. You know that if we were to integrate this, there would be an arbitrary constant of integration. To find its value, we do need to know one point on the curve $(t, u)$. When the derivative in the ODE is with respect to time, we call that point the _initial value_ and write something like this:\n",
    "\n",
    "$$u(t=0)=u_0$$\n",
    "\n",
    "In the case of a second-order ODE, we already saw how to write it as a system of first-order ODEs, and we would need an initial value for each equation: two conditions are needed to determine our constants of integration. The same applies for higher-order ODEs: if it is of order $n$, we can write it as $n$ first-order equations, and we need $n$ known values. If we have that data, we call the problem an _initial value problem_.\n",
    "\n",
    "Remember the definition of a derivative? The derivative represents the slope of the tangent at a point of the curve $u=u(t)$, and the definition of the derivative $u'$ for a function is:\n",
    "\n",
    "$$u'(t) = \\lim_{\\Delta t\\rightarrow 0} \\frac{u(t+\\Delta t)-u(t)}{\\Delta t}$$\n",
    "\n",
    "If the step $\\Delta t$ is already very small, we can _approximate_ the derivative by dropping the limit. We can write:\n",
    "\n",
    "$$\\begin{equation}\n",
    "u(t+\\Delta t) \\approx u(t) + u'(t) \\Delta t\n",
    "\\end{equation}$$\n",
    "\n",
    "With this equation, and because we know $u'(t)=f(u)$, if we have an initial value, we can step by $\\Delta t$ and find the value of $u(t+\\Delta t)$, then we can take this value, and find $u(t+2\\Delta t)$, and so on: we say that we _step in time_, numerically finding the solution $u(t)$ for a range of values: $t_1, t_2, t_3 \\cdots$, each separated by $\\Delta t$. The numerical solution of the ODE is simply the table of values $t_i, u_i$ that results from this process.\n"
   ]
  },
  {
   "cell_type": "markdown",
   "metadata": {},
   "source": [
    "# Euler's method\n",
    "*Also known as \"Simple Euler\" or sometimes \"Simple Error\".*\n",
    "\n",
    "The approximate solution at time $t_n$ is $u_n$, and the numerical solution of the differential equation consists of computing a sequence of approximate solutions by the following formula, based on Equation (10):\n",
    "\n",
    "$$u_{n+1} = u_n + \\Delta t \\,f(u_n).$$\n",
    "\n",
    "This formula is called **Euler's method**.\n",
    "\n",
    "For the equations of the rabbits and foxes, Euler's method gives the following algorithm that we need to implement in code:\n",
    "\n",
    "\\begin{align}\n",
    "R_{n+1} & = R_n + \\Delta t \\left(k_1 R_n - k_2 R_n F_n \\right) \\\\\n",
    "F_{n+1} & = F_n + \\Delta t \\left( k_3 R_n F_n - k_4 F_n \\right).\n",
    "\\end{align}\n"
   ]
  },
  {
   "cell_type": "markdown",
   "metadata": {},
   "source": [
    "Kinetic Monte Carlo Notes from Class\n",
    "\n",
    "Events:\n",
    "\n",
    "Rabbit Born k1xR\n",
    "\n",
    "Rabbit Dies k2xRxF\n",
    "\n",
    "Fox Born \n",
    "\n",
    "Fox Dies\n",
    "\n",
    "sum of rates is the expected number of events per time\n",
    "\n",
    "1/sum is the average wait time\n",
    "\n",
    "exponential time distribution can be used, and events chosen based on probability"
   ]
  },
  {
   "cell_type": "markdown",
   "metadata": {
    "collapsed": false
   },
   "source": [
    "R = 400  # rabbits\n",
    "F = 200  # foxes\n",
    "\n",
    "\n",
    "def pops(pops0, t):\n",
    "    k1 = .015  # 1/days\n",
    "    k2 = .00004  # 1/(days*foxes)\n",
    "    k3 = .00004  # 1/(days*rabbits)\n",
    "    k4 = .04  # 1/days\n",
    "    dxdt = k1*pops0[0]-k2*pops0[0]*pops0[1]\n",
    "    dydt = k3*pops0[0]*pops0[1]-k4*pops0[1]\n",
    "    ddt = [dxdt, dydt]\n",
    "    return ddt\n",
    "\n",
    "t = np.linspace(0, 800, 10000)\n",
    "pops0 = [R, F]\n",
    "\n",
    "populations = odeint(pops, pops0, t)\n",
    "\n",
    "plt.plot(1)\n",
    "plt.title('k3 = 0.00004')\n",
    "plt.plot(t, populations[:, 0], 'b-')\n",
    "plt.plot(t, populations[:, 1], 'r--')\n",
    "plt.xlabel('Time (days)')\n",
    "plt.ylabel('Population')\n",
    "plt.legend(['Rabbits', 'Foxes'], loc=0)\n",
    "plt.show()"
   ]
  },
  {
   "cell_type": "code",
   "execution_count": 2,
   "metadata": {
    "collapsed": true
   },
   "outputs": [],
   "source": [
    "%matplotlib inline\n",
    "import numpy as np\n",
    "from matplotlib import pyplot as plt\n",
    "from scipy.integrate import odeint"
   ]
  },
  {
   "cell_type": "code",
   "execution_count": 3,
   "metadata": {
    "collapsed": false
   },
   "outputs": [
    {
     "data": {
      "image/png": "[encoded data removed]",
      "text/plain": [
       "<matplotlib.figure.Figure at 0x20f395ba278>"
      ]
     },
     "metadata": {},
     "output_type": "display_data"
    }
   ],
   "source": [
    "R = 400  # rabbits\n",
    "F = 200  # foxes\n",
    "TimeStep = .01\n",
    "\n",
    "def pops(pops0, t):\n",
    "    k1 = .015  # 1/days\n",
    "    k2 = .00004  # 1/(days*foxes)\n",
    "    k3 = .0004  # 1/(days*rabbits)\n",
    "    k4 = .04  # 1/days\n",
    "    dxdt = k1*pops0[0]-k2*pops0[0]*pops0[1]\n",
    "    dydt = k3*pops0[0]*pops0[1]-k4*pops0[1]\n",
    "    ddt = [dxdt, dydt]\n",
    "    return ddt\n",
    "\n",
    "t = np.arange(0, 600, TimeStep)\n",
    "pops0 = [R, F]\n",
    "\n",
    "populations = odeint(pops, pops0, t)\n",
    "\n",
    "plt.plot(1)\n",
    "plt.title('k3 = 0.0004')\n",
    "plt.plot(t, populations[:,0], 'b-', label='Rabbits')\n",
    "plt.plot(t, populations[:,1], 'r--', label='Foxes')\n",
    "plt.xlabel('Time (days)')\n",
    "plt.ylabel('Population')\n",
    "plt.legend(loc=0)\n",
    "plt.show()"
   ]
  },
  {
   "cell_type": "code",
   "execution_count": 4,
   "metadata": {
    "collapsed": false
   },
   "outputs": [
    {
     "data": {
      "text/plain": [
       "(427.76999999999998, 2804)"
      ]
     },
     "execution_count": 4,
     "metadata": {},
     "output_type": "execute_result"
    }
   ],
   "source": [
    "def second_max(Time, Var):\n",
    "# Returns the second maximum of the given 1-D Array (as an int) and the corresponding time (as a float)\n",
    "# This function only works if the second peak is in the second half of the data set by itself\n",
    "\n",
    "    x, y = np.split(Var,2) # Splits the given array in two\n",
    "    index = np.argmax(y)+(len(x)-1) # gives the index of the maximum value with respect to original array\n",
    "    \n",
    "    return ((round(Time[index], 2)), int(round(Var[index]))) # round function added because int is floor\n",
    "\n",
    "second_max(t, populations[:,1])"
   ]
  },
  {
   "cell_type": "code",
   "execution_count": 21,
   "metadata": {
    "collapsed": false
   },
   "outputs": [
    {
     "ename": "AttributeError",
     "evalue": "'list' object has no attribute 'shape'",
     "output_type": "error",
     "traceback": [
      "\u001b[0;31m---------------------------------------------------------------------------\u001b[0m",
      "\u001b[0;31mTypeError\u001b[0m                                 Traceback (most recent call last)",
      "\u001b[0;32mC:\\Anaconda3\\lib\\site-packages\\numpy\\lib\\shape_base.py\u001b[0m in \u001b[0;36msplit\u001b[0;34m(ary, indices_or_sections, axis)\u001b[0m\n\u001b[1;32m    493\u001b[0m     \u001b[1;32mtry\u001b[0m\u001b[1;33m:\u001b[0m\u001b[1;33m\u001b[0m\u001b[0m\n\u001b[0;32m--> 494\u001b[0;31m         \u001b[0mlen\u001b[0m\u001b[1;33m(\u001b[0m\u001b[0mindices_or_sections\u001b[0m\u001b[1;33m)\u001b[0m\u001b[1;33m\u001b[0m\u001b[0m\n\u001b[0m\u001b[1;32m    495\u001b[0m     \u001b[1;32mexcept\u001b[0m \u001b[0mTypeError\u001b[0m\u001b[1;33m:\u001b[0m\u001b[1;33m\u001b[0m\u001b[0m\n",
      "\u001b[0;31mTypeError\u001b[0m: object of type 'int' has no len()",
      "\nDuring handling of the above exception, another exception occurred:\n",
      "\u001b[0;31mAttributeError\u001b[0m                            Traceback (most recent call last)",
      "\u001b[0;32m<ipython-input-21-3932697783a3>\u001b[0m in \u001b[0;36m<module>\u001b[0;34m()\u001b[0m\n\u001b[1;32m     76\u001b[0m \u001b[1;33m\u001b[0m\u001b[0m\n\u001b[1;32m     77\u001b[0m     \u001b[1;32mif\u001b[0m \u001b[0mFDead\u001b[0m \u001b[1;33m==\u001b[0m \u001b[1;32mFalse\u001b[0m \u001b[1;32mand\u001b[0m \u001b[0mRDead\u001b[0m \u001b[1;33m==\u001b[0m \u001b[1;32mFalse\u001b[0m\u001b[1;33m:\u001b[0m\u001b[1;33m\u001b[0m\u001b[0m\n\u001b[0;32m---> 78\u001b[0;31m         \u001b[0mFPeak2\u001b[0m\u001b[1;33m.\u001b[0m\u001b[0mappend\u001b[0m\u001b[1;33m(\u001b[0m\u001b[0msecond_max\u001b[0m\u001b[1;33m(\u001b[0m\u001b[0mt\u001b[0m\u001b[1;33m,\u001b[0m \u001b[0mF\u001b[0m\u001b[1;33m)\u001b[0m\u001b[1;33m)\u001b[0m\u001b[1;33m\u001b[0m\u001b[0m\n\u001b[0m\u001b[1;32m     79\u001b[0m \u001b[1;33m\u001b[0m\u001b[0m\n\u001b[1;32m     80\u001b[0m \u001b[0mProbFDeath\u001b[0m\u001b[1;33m/\u001b[0m\u001b[0mtrials\u001b[0m\u001b[1;33m\u001b[0m\u001b[0m\n",
      "\u001b[0;32m<ipython-input-4-574cb7e45a8b>\u001b[0m in \u001b[0;36msecond_max\u001b[0;34m(Time, Var)\u001b[0m\n\u001b[1;32m      3\u001b[0m \u001b[1;31m# This function only works if the second peak is in the second half of the data set by itself\u001b[0m\u001b[1;33m\u001b[0m\u001b[1;33m\u001b[0m\u001b[0m\n\u001b[1;32m      4\u001b[0m \u001b[1;33m\u001b[0m\u001b[0m\n\u001b[0;32m----> 5\u001b[0;31m     \u001b[0mx\u001b[0m\u001b[1;33m,\u001b[0m \u001b[0my\u001b[0m \u001b[1;33m=\u001b[0m \u001b[0mnp\u001b[0m\u001b[1;33m.\u001b[0m\u001b[0msplit\u001b[0m\u001b[1;33m(\u001b[0m\u001b[0mVar\u001b[0m\u001b[1;33m,\u001b[0m\u001b[1;36m2\u001b[0m\u001b[1;33m)\u001b[0m \u001b[1;31m# Splits the given array in two\u001b[0m\u001b[1;33m\u001b[0m\u001b[0m\n\u001b[0m\u001b[1;32m      6\u001b[0m     \u001b[0mindex\u001b[0m \u001b[1;33m=\u001b[0m \u001b[0mnp\u001b[0m\u001b[1;33m.\u001b[0m\u001b[0margmax\u001b[0m\u001b[1;33m(\u001b[0m\u001b[0my\u001b[0m\u001b[1;33m)\u001b[0m\u001b[1;33m+\u001b[0m\u001b[1;33m(\u001b[0m\u001b[0mlen\u001b[0m\u001b[1;33m(\u001b[0m\u001b[0mx\u001b[0m\u001b[1;33m)\u001b[0m\u001b[1;33m-\u001b[0m\u001b[1;36m1\u001b[0m\u001b[1;33m)\u001b[0m \u001b[1;31m# gives the index of the maximum value with respect to original array\u001b[0m\u001b[1;33m\u001b[0m\u001b[0m\n\u001b[1;32m      7\u001b[0m \u001b[1;33m\u001b[0m\u001b[0m\n",
      "\u001b[0;32mC:\\Anaconda3\\lib\\site-packages\\numpy\\lib\\shape_base.py\u001b[0m in \u001b[0;36msplit\u001b[0;34m(ary, indices_or_sections, axis)\u001b[0m\n\u001b[1;32m    495\u001b[0m     \u001b[1;32mexcept\u001b[0m \u001b[0mTypeError\u001b[0m\u001b[1;33m:\u001b[0m\u001b[1;33m\u001b[0m\u001b[0m\n\u001b[1;32m    496\u001b[0m         \u001b[0msections\u001b[0m \u001b[1;33m=\u001b[0m \u001b[0mindices_or_sections\u001b[0m\u001b[1;33m\u001b[0m\u001b[0m\n\u001b[0;32m--> 497\u001b[0;31m         \u001b[0mN\u001b[0m \u001b[1;33m=\u001b[0m \u001b[0mary\u001b[0m\u001b[1;33m.\u001b[0m\u001b[0mshape\u001b[0m\u001b[1;33m[\u001b[0m\u001b[0maxis\u001b[0m\u001b[1;33m]\u001b[0m\u001b[1;33m\u001b[0m\u001b[0m\n\u001b[0m\u001b[1;32m    498\u001b[0m         \u001b[1;32mif\u001b[0m \u001b[0mN\u001b[0m \u001b[1;33m%\u001b[0m \u001b[0msections\u001b[0m\u001b[1;33m:\u001b[0m\u001b[1;33m\u001b[0m\u001b[0m\n\u001b[1;32m    499\u001b[0m             raise ValueError(\n",
      "\u001b[0;31mAttributeError\u001b[0m: 'list' object has no attribute 'shape'"
     ]
    },
    {
     "data": {
      "image/png": "[encoded data removed]",
      "text/plain": [
       "<matplotlib.figure.Figure at 0x20f41343cc0>"
      ]
     },
     "metadata": {},
     "output_type": "display_data"
    }
   ],
   "source": [
    "# Set initial conditions\n",
    "Ri = 400\n",
    "Fi = 200\n",
    "Rf = []\n",
    "Ff = []\n",
    "ProbFDeath = 0\n",
    "FPeak2 = []\n",
    "trials = 100\n",
    "\n",
    "#define rates\n",
    "k1 = .015  # 1/days\n",
    "k2 = .00004  # 1/(days*foxes)\n",
    "k3 = .0004  # 1/(days*rabbits)\n",
    "k4 = .04  # 1/days\n",
    "\n",
    "for i in range(trials):\n",
    "# reset lists\n",
    "    R = [Ri]\n",
    "    F = [Fi]\n",
    "    t = [0]\n",
    "    FDead = False\n",
    "    RDead = False\n",
    "\n",
    "    while t[-1] <= 600:\n",
    "\n",
    "        Q = k1*R[-1] + k2*R[-1]*F[-1] + k3*R[-1]*F[-1] + k4*F[-1]\n",
    "        r1 = k1*R[-1]\n",
    "        r2 = k1*R[-1] + k2*R[-1]*F[-1]\n",
    "        r3 = k1*R[-1] + k2*R[-1]*F[-1] + k3*R[-1]*F[-1]\n",
    "        \n",
    "        if F[-1] < 1:\n",
    "#            print(\"All foxes disappeared at\" + \" \" + str(t[-1]))\n",
    "            ProbFDeath = ProbFDeath + 1\n",
    "            FDead = True\n",
    "            break\n",
    "            \n",
    "        elif R[-1] < 1:\n",
    "#            print(\"All rabbits disappeared at\" + \" \" + str(t[-1]))\n",
    "            FDead = True\n",
    "            break\n",
    "\n",
    "        val = np.random.rand() * Q\n",
    "\n",
    "        if val < r1:\n",
    "            # Rabbit is born\n",
    "            R.append(R[-1] + 1)\n",
    "            F.append(F[-1])\n",
    "            t.append(t[-1] + 1/Q * np.log(1/np.random.rand()))\n",
    "\n",
    "        elif val < r2:\n",
    "            # Rabbit is killed by a fox\n",
    "            R.append(R[-1] - 1)\n",
    "            F.append(F[-1])\n",
    "            t.append(t[-1] + 1/Q * np.log(1/np.random.rand()))\n",
    "\n",
    "        elif val < r3:\n",
    "            # Fox is born\n",
    "            F.append(F[-1] + 1)\n",
    "            R.append(R[-1])\n",
    "            t.append(t[-1] + 1/Q * np.log(1/np.random.rand()))\n",
    "\n",
    "        elif val < Q:\n",
    "            # Fox dies\n",
    "            F.append(F[-1] - 1)\n",
    "            R.append(R[-1])\n",
    "            t.append(t[-1] + 1/Q * np.log(1/np.random.rand()))\n",
    "\n",
    "        else:\n",
    "            print(\"Error in while loop\")\n",
    "            break\n",
    "            \n",
    "    Rf.append(R[-1])\n",
    "    Ff.append(F[-1])\n",
    "    plt.plot(t,R, 'b--')\n",
    "    plt.plot(t,F, 'r')\n",
    "    \n",
    "    if FDead == False and RDead == False:\n",
    "        FPeak2.append(second_max(t, F))\n",
    "    \n",
    "ProbFDeath/trials"
   ]
  },
  {
   "cell_type": "code",
   "execution_count": 16,
   "metadata": {
    "collapsed": false
   },
   "outputs": [
    {
     "name": "stdout",
     "output_type": "stream",
     "text": [
      "59.24 4.32\n"
     ]
    },
    {
     "data": {
      "image/png": "[encoded data removed]",
      "text/plain": [
       "<matplotlib.figure.Figure at 0x20f3b11b2b0>"
      ]
     },
     "metadata": {},
     "output_type": "display_data"
    }
   ],
   "source": [
    "plt.plot(Rf, 'b--', label='Rabbits')\n",
    "plt.plot(Ff, 'r', label='Foxes')\n",
    "print(np.mean(Rf), np.mean(Ff))"
   ]
  },
  {
   "cell_type": "code",
   "execution_count": null,
   "metadata": {
    "collapsed": true
   },
   "outputs": [],
   "source": []
  }
 ],
 "metadata": {
  "anaconda-cloud": {},
  "kernelspec": {
   "display_name": "Python [Root]",
   "language": "python",
   "name": "Python [Root]"
  },
  "language_info": {
   "codemirror_mode": {
    "name": "ipython",
    "version": 3
   },
   "file_extension": ".py",
   "mimetype": "text/x-python",
   "name": "python",
   "nbconvert_exporter": "python",
   "pygments_lexer": "ipython3",
   "version": "3.5.2"
  }
 },
 "nbformat": 4,
 "nbformat_minor": 1
}
